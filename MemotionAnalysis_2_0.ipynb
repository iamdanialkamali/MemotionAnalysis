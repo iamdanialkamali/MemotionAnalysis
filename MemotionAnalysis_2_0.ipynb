{
  "nbformat": 4,
  "nbformat_minor": 0,
  "metadata": {
    "colab": {
      "name": "MemotionAnalysis-2.0.ipynb",
      "provenance": [],
      "collapsed_sections": []
    },
    "kernelspec": {
      "name": "python3",
      "display_name": "Python 3"
    },
    "accelerator": "TPU",
    "widgets": {
      "application/vnd.jupyter.widget-state+json": {
        "d70a520e702343ebba35069b29a9d095": {
          "model_module": "@jupyter-widgets/controls",
          "model_name": "HBoxModel",
          "state": {
            "_view_name": "HBoxView",
            "_dom_classes": [],
            "_model_name": "HBoxModel",
            "_view_module": "@jupyter-widgets/controls",
            "_model_module_version": "1.5.0",
            "_view_count": null,
            "_view_module_version": "1.5.0",
            "box_style": "",
            "layout": "IPY_MODEL_091ba3b167e84d7db3a03165ea5fed0d",
            "_model_module": "@jupyter-widgets/controls",
            "children": [
              "IPY_MODEL_7edc8ae973794fc4ba63989c8d5a307f",
              "IPY_MODEL_fa9241278d0649d78043c0baf55923da"
            ]
          }
        },
        "091ba3b167e84d7db3a03165ea5fed0d": {
          "model_module": "@jupyter-widgets/base",
          "model_name": "LayoutModel",
          "state": {
            "_view_name": "LayoutView",
            "grid_template_rows": null,
            "right": null,
            "justify_content": null,
            "_view_module": "@jupyter-widgets/base",
            "overflow": null,
            "_model_module_version": "1.2.0",
            "_view_count": null,
            "flex_flow": null,
            "width": null,
            "min_width": null,
            "border": null,
            "align_items": null,
            "bottom": null,
            "_model_module": "@jupyter-widgets/base",
            "top": null,
            "grid_column": null,
            "overflow_y": null,
            "overflow_x": null,
            "grid_auto_flow": null,
            "grid_area": null,
            "grid_template_columns": null,
            "flex": null,
            "_model_name": "LayoutModel",
            "justify_items": null,
            "grid_row": null,
            "max_height": null,
            "align_content": null,
            "visibility": null,
            "align_self": null,
            "height": null,
            "min_height": null,
            "padding": null,
            "grid_auto_rows": null,
            "grid_gap": null,
            "max_width": null,
            "order": null,
            "_view_module_version": "1.2.0",
            "grid_template_areas": null,
            "object_position": null,
            "object_fit": null,
            "grid_auto_columns": null,
            "margin": null,
            "display": null,
            "left": null
          }
        },
        "7edc8ae973794fc4ba63989c8d5a307f": {
          "model_module": "@jupyter-widgets/controls",
          "model_name": "IntProgressModel",
          "state": {
            "_view_name": "ProgressView",
            "style": "IPY_MODEL_bfbeb3166fab41ccbc8cdc8a795d5bcf",
            "_dom_classes": [],
            "description": "",
            "_model_name": "IntProgressModel",
            "bar_style": "success",
            "max": 1,
            "_view_module": "@jupyter-widgets/controls",
            "_model_module_version": "1.5.0",
            "value": 1,
            "_view_count": null,
            "_view_module_version": "1.5.0",
            "orientation": "horizontal",
            "min": 0,
            "description_tooltip": null,
            "_model_module": "@jupyter-widgets/controls",
            "layout": "IPY_MODEL_91bfc7b10db4494b80ac78b699c110b1"
          }
        },
        "fa9241278d0649d78043c0baf55923da": {
          "model_module": "@jupyter-widgets/controls",
          "model_name": "HTMLModel",
          "state": {
            "_view_name": "HTMLView",
            "style": "IPY_MODEL_fb6385af6e8b4f8b912793270b0b00b9",
            "_dom_classes": [],
            "description": "",
            "_model_name": "HTMLModel",
            "placeholder": "​",
            "_view_module": "@jupyter-widgets/controls",
            "_model_module_version": "1.5.0",
            "value": "6601it [00:00, 19799.90it/s]",
            "_view_count": null,
            "_view_module_version": "1.5.0",
            "description_tooltip": null,
            "_model_module": "@jupyter-widgets/controls",
            "layout": "IPY_MODEL_f95676834f864389a5f0a237ddfb5ee7"
          }
        },
        "bfbeb3166fab41ccbc8cdc8a795d5bcf": {
          "model_module": "@jupyter-widgets/controls",
          "model_name": "ProgressStyleModel",
          "state": {
            "_view_name": "StyleView",
            "_model_name": "ProgressStyleModel",
            "description_width": "",
            "_view_module": "@jupyter-widgets/base",
            "_model_module_version": "1.5.0",
            "_view_count": null,
            "_view_module_version": "1.2.0",
            "bar_color": null,
            "_model_module": "@jupyter-widgets/controls"
          }
        },
        "91bfc7b10db4494b80ac78b699c110b1": {
          "model_module": "@jupyter-widgets/base",
          "model_name": "LayoutModel",
          "state": {
            "_view_name": "LayoutView",
            "grid_template_rows": null,
            "right": null,
            "justify_content": null,
            "_view_module": "@jupyter-widgets/base",
            "overflow": null,
            "_model_module_version": "1.2.0",
            "_view_count": null,
            "flex_flow": null,
            "width": null,
            "min_width": null,
            "border": null,
            "align_items": null,
            "bottom": null,
            "_model_module": "@jupyter-widgets/base",
            "top": null,
            "grid_column": null,
            "overflow_y": null,
            "overflow_x": null,
            "grid_auto_flow": null,
            "grid_area": null,
            "grid_template_columns": null,
            "flex": null,
            "_model_name": "LayoutModel",
            "justify_items": null,
            "grid_row": null,
            "max_height": null,
            "align_content": null,
            "visibility": null,
            "align_self": null,
            "height": null,
            "min_height": null,
            "padding": null,
            "grid_auto_rows": null,
            "grid_gap": null,
            "max_width": null,
            "order": null,
            "_view_module_version": "1.2.0",
            "grid_template_areas": null,
            "object_position": null,
            "object_fit": null,
            "grid_auto_columns": null,
            "margin": null,
            "display": null,
            "left": null
          }
        },
        "fb6385af6e8b4f8b912793270b0b00b9": {
          "model_module": "@jupyter-widgets/controls",
          "model_name": "DescriptionStyleModel",
          "state": {
            "_view_name": "StyleView",
            "_model_name": "DescriptionStyleModel",
            "description_width": "",
            "_view_module": "@jupyter-widgets/base",
            "_model_module_version": "1.5.0",
            "_view_count": null,
            "_view_module_version": "1.2.0",
            "_model_module": "@jupyter-widgets/controls"
          }
        },
        "f95676834f864389a5f0a237ddfb5ee7": {
          "model_module": "@jupyter-widgets/base",
          "model_name": "LayoutModel",
          "state": {
            "_view_name": "LayoutView",
            "grid_template_rows": null,
            "right": null,
            "justify_content": null,
            "_view_module": "@jupyter-widgets/base",
            "overflow": null,
            "_model_module_version": "1.2.0",
            "_view_count": null,
            "flex_flow": null,
            "width": null,
            "min_width": null,
            "border": null,
            "align_items": null,
            "bottom": null,
            "_model_module": "@jupyter-widgets/base",
            "top": null,
            "grid_column": null,
            "overflow_y": null,
            "overflow_x": null,
            "grid_auto_flow": null,
            "grid_area": null,
            "grid_template_columns": null,
            "flex": null,
            "_model_name": "LayoutModel",
            "justify_items": null,
            "grid_row": null,
            "max_height": null,
            "align_content": null,
            "visibility": null,
            "align_self": null,
            "height": null,
            "min_height": null,
            "padding": null,
            "grid_auto_rows": null,
            "grid_gap": null,
            "max_width": null,
            "order": null,
            "_view_module_version": "1.2.0",
            "grid_template_areas": null,
            "object_position": null,
            "object_fit": null,
            "grid_auto_columns": null,
            "margin": null,
            "display": null,
            "left": null
          }
        },
        "d7cc996e2628453f8d90078e864d99a0": {
          "model_module": "@jupyter-widgets/controls",
          "model_name": "HBoxModel",
          "state": {
            "_view_name": "HBoxView",
            "_dom_classes": [],
            "_model_name": "HBoxModel",
            "_view_module": "@jupyter-widgets/controls",
            "_model_module_version": "1.5.0",
            "_view_count": null,
            "_view_module_version": "1.5.0",
            "box_style": "",
            "layout": "IPY_MODEL_41a4e2ef8cf442d3b649447c1003070f",
            "_model_module": "@jupyter-widgets/controls",
            "children": [
              "IPY_MODEL_f12f8b3b86e04c42ae758d25108765ed",
              "IPY_MODEL_a93b69d51e3e4885b7d9ab7a4a166dce"
            ]
          }
        },
        "41a4e2ef8cf442d3b649447c1003070f": {
          "model_module": "@jupyter-widgets/base",
          "model_name": "LayoutModel",
          "state": {
            "_view_name": "LayoutView",
            "grid_template_rows": null,
            "right": null,
            "justify_content": null,
            "_view_module": "@jupyter-widgets/base",
            "overflow": null,
            "_model_module_version": "1.2.0",
            "_view_count": null,
            "flex_flow": null,
            "width": null,
            "min_width": null,
            "border": null,
            "align_items": null,
            "bottom": null,
            "_model_module": "@jupyter-widgets/base",
            "top": null,
            "grid_column": null,
            "overflow_y": null,
            "overflow_x": null,
            "grid_auto_flow": null,
            "grid_area": null,
            "grid_template_columns": null,
            "flex": null,
            "_model_name": "LayoutModel",
            "justify_items": null,
            "grid_row": null,
            "max_height": null,
            "align_content": null,
            "visibility": null,
            "align_self": null,
            "height": null,
            "min_height": null,
            "padding": null,
            "grid_auto_rows": null,
            "grid_gap": null,
            "max_width": null,
            "order": null,
            "_view_module_version": "1.2.0",
            "grid_template_areas": null,
            "object_position": null,
            "object_fit": null,
            "grid_auto_columns": null,
            "margin": null,
            "display": null,
            "left": null
          }
        },
        "f12f8b3b86e04c42ae758d25108765ed": {
          "model_module": "@jupyter-widgets/controls",
          "model_name": "IntProgressModel",
          "state": {
            "_view_name": "ProgressView",
            "style": "IPY_MODEL_c846d7402cec4a1d8584eeded821d4e0",
            "_dom_classes": [],
            "description": "",
            "_model_name": "IntProgressModel",
            "bar_style": "success",
            "max": 1,
            "_view_module": "@jupyter-widgets/controls",
            "_model_module_version": "1.5.0",
            "value": 1,
            "_view_count": null,
            "_view_module_version": "1.5.0",
            "orientation": "horizontal",
            "min": 0,
            "description_tooltip": null,
            "_model_module": "@jupyter-widgets/controls",
            "layout": "IPY_MODEL_2074a809693f449f96c2ff75e6467e8b"
          }
        },
        "a93b69d51e3e4885b7d9ab7a4a166dce": {
          "model_module": "@jupyter-widgets/controls",
          "model_name": "HTMLModel",
          "state": {
            "_view_name": "HTMLView",
            "style": "IPY_MODEL_789a8fab82874f28b60aef95ea8b30fa",
            "_dom_classes": [],
            "description": "",
            "_model_name": "HTMLModel",
            "placeholder": "​",
            "_view_module": "@jupyter-widgets/controls",
            "_model_module_version": "1.5.0",
            "value": "915it [00:00, 4282.30it/s]",
            "_view_count": null,
            "_view_module_version": "1.5.0",
            "description_tooltip": null,
            "_model_module": "@jupyter-widgets/controls",
            "layout": "IPY_MODEL_a3f1d49068da4d279bf445cd3b1846a7"
          }
        },
        "c846d7402cec4a1d8584eeded821d4e0": {
          "model_module": "@jupyter-widgets/controls",
          "model_name": "ProgressStyleModel",
          "state": {
            "_view_name": "StyleView",
            "_model_name": "ProgressStyleModel",
            "description_width": "",
            "_view_module": "@jupyter-widgets/base",
            "_model_module_version": "1.5.0",
            "_view_count": null,
            "_view_module_version": "1.2.0",
            "bar_color": null,
            "_model_module": "@jupyter-widgets/controls"
          }
        },
        "2074a809693f449f96c2ff75e6467e8b": {
          "model_module": "@jupyter-widgets/base",
          "model_name": "LayoutModel",
          "state": {
            "_view_name": "LayoutView",
            "grid_template_rows": null,
            "right": null,
            "justify_content": null,
            "_view_module": "@jupyter-widgets/base",
            "overflow": null,
            "_model_module_version": "1.2.0",
            "_view_count": null,
            "flex_flow": null,
            "width": null,
            "min_width": null,
            "border": null,
            "align_items": null,
            "bottom": null,
            "_model_module": "@jupyter-widgets/base",
            "top": null,
            "grid_column": null,
            "overflow_y": null,
            "overflow_x": null,
            "grid_auto_flow": null,
            "grid_area": null,
            "grid_template_columns": null,
            "flex": null,
            "_model_name": "LayoutModel",
            "justify_items": null,
            "grid_row": null,
            "max_height": null,
            "align_content": null,
            "visibility": null,
            "align_self": null,
            "height": null,
            "min_height": null,
            "padding": null,
            "grid_auto_rows": null,
            "grid_gap": null,
            "max_width": null,
            "order": null,
            "_view_module_version": "1.2.0",
            "grid_template_areas": null,
            "object_position": null,
            "object_fit": null,
            "grid_auto_columns": null,
            "margin": null,
            "display": null,
            "left": null
          }
        },
        "789a8fab82874f28b60aef95ea8b30fa": {
          "model_module": "@jupyter-widgets/controls",
          "model_name": "DescriptionStyleModel",
          "state": {
            "_view_name": "StyleView",
            "_model_name": "DescriptionStyleModel",
            "description_width": "",
            "_view_module": "@jupyter-widgets/base",
            "_model_module_version": "1.5.0",
            "_view_count": null,
            "_view_module_version": "1.2.0",
            "_model_module": "@jupyter-widgets/controls"
          }
        },
        "a3f1d49068da4d279bf445cd3b1846a7": {
          "model_module": "@jupyter-widgets/base",
          "model_name": "LayoutModel",
          "state": {
            "_view_name": "LayoutView",
            "grid_template_rows": null,
            "right": null,
            "justify_content": null,
            "_view_module": "@jupyter-widgets/base",
            "overflow": null,
            "_model_module_version": "1.2.0",
            "_view_count": null,
            "flex_flow": null,
            "width": null,
            "min_width": null,
            "border": null,
            "align_items": null,
            "bottom": null,
            "_model_module": "@jupyter-widgets/base",
            "top": null,
            "grid_column": null,
            "overflow_y": null,
            "overflow_x": null,
            "grid_auto_flow": null,
            "grid_area": null,
            "grid_template_columns": null,
            "flex": null,
            "_model_name": "LayoutModel",
            "justify_items": null,
            "grid_row": null,
            "max_height": null,
            "align_content": null,
            "visibility": null,
            "align_self": null,
            "height": null,
            "min_height": null,
            "padding": null,
            "grid_auto_rows": null,
            "grid_gap": null,
            "max_width": null,
            "order": null,
            "_view_module_version": "1.2.0",
            "grid_template_areas": null,
            "object_position": null,
            "object_fit": null,
            "grid_auto_columns": null,
            "margin": null,
            "display": null,
            "left": null
          }
        }
      }
    }
  },
  "cells": [
    {
      "cell_type": "code",
      "metadata": {
        "id": "8yU8gPc5bgvu",
        "colab_type": "code",
        "outputId": "18f2f65d-5c0d-4b45-fb07-d30010ee3ea7",
        "colab": {
          "base_uri": "https://localhost:8080/",
          "height": 120
        }
      },
      "source": [
        "from google.colab import drive\n",
        "drive.mount('/content/drive')"
      ],
      "execution_count": 0,
      "outputs": [
        {
          "output_type": "stream",
          "text": [
            "Go to this URL in a browser: https://accounts.google.com/o/oauth2/auth?client_id=947318989803-6bn6qk8qdgf4n4g3pfee6491hc0brc4i.apps.googleusercontent.com&redirect_uri=urn%3aietf%3awg%3aoauth%3a2.0%3aoob&response_type=code&scope=email%20https%3a%2f%2fwww.googleapis.com%2fauth%2fdocs.test%20https%3a%2f%2fwww.googleapis.com%2fauth%2fdrive%20https%3a%2f%2fwww.googleapis.com%2fauth%2fdrive.photos.readonly%20https%3a%2f%2fwww.googleapis.com%2fauth%2fpeopleapi.readonly\n",
            "\n",
            "Enter your authorization code:\n",
            "··········\n",
            "Mounted at /content/drive\n"
          ],
          "name": "stdout"
        }
      ]
    },
    {
      "cell_type": "code",
      "metadata": {
        "id": "Zxmuj3dsoOlL",
        "colab_type": "code",
        "colab": {}
      },
      "source": [
        "import csv\n",
        "import shutil \n",
        "from tqdm import tqdm\n",
        "import numpy as np"
      ],
      "execution_count": 0,
      "outputs": []
    },
    {
      "cell_type": "code",
      "metadata": {
        "id": "Og7FGAfJ4_so",
        "colab_type": "code",
        "colab": {}
      },
      "source": [
        "%%capture\n",
        "from tqdm import tqdm_notebook as tqdm\n"
      ],
      "execution_count": 0,
      "outputs": []
    },
    {
      "cell_type": "markdown",
      "metadata": {
        "id": "Wtu2l2qGxTwP",
        "colab_type": "text"
      },
      "source": [
        "## loading Dataset\n"
      ]
    },
    {
      "cell_type": "markdown",
      "metadata": {
        "id": "JryAbmomnL9e",
        "colab_type": "text"
      },
      "source": [
        ""
      ]
    },
    {
      "cell_type": "code",
      "metadata": {
        "id": "88aoPjOCndKg",
        "colab_type": "code",
        "outputId": "10757d6f-46a4-4cc7-a3a1-0e8b489dd3dc",
        "colab": {
          "base_uri": "https://localhost:8080/",
          "height": 147,
          "referenced_widgets": [
            "d70a520e702343ebba35069b29a9d095",
            "091ba3b167e84d7db3a03165ea5fed0d",
            "7edc8ae973794fc4ba63989c8d5a307f",
            "fa9241278d0649d78043c0baf55923da",
            "bfbeb3166fab41ccbc8cdc8a795d5bcf",
            "91bfc7b10db4494b80ac78b699c110b1",
            "fb6385af6e8b4f8b912793270b0b00b9",
            "f95676834f864389a5f0a237ddfb5ee7",
            "d7cc996e2628453f8d90078e864d99a0",
            "41a4e2ef8cf442d3b649447c1003070f",
            "f12f8b3b86e04c42ae758d25108765ed",
            "a93b69d51e3e4885b7d9ab7a4a166dce",
            "c846d7402cec4a1d8584eeded821d4e0",
            "2074a809693f449f96c2ff75e6467e8b",
            "789a8fab82874f28b60aef95ea8b30fa",
            "a3f1d49068da4d279bf445cd3b1846a7"
          ]
        }
      },
      "source": [
        "from PIL import Image\n",
        "import cv2\n",
        "data = []\n",
        "with open('/content/drive/My Drive/memotion_analysis_training_data/data_7000_new.csv') as csv_file:\n",
        "    csv_reader = csv.reader(csv_file, delimiter=',')\n",
        "    line_count = 0\n",
        "    pos = 0\n",
        "    neg = 0\n",
        "    \n",
        "    for row in tqdm(csv_reader):\n",
        "      if row[0] in ['giorgio_ancient-aliens-guy-memes-giorgio-a-tsoukalos-ancient-aliens-E268e727189307c9298ae4cfff109caa7.jpg','seal_oqx0m9t.jpg','got_GOT-Meme-9.png','giorgio_889e6c9e8f8368ee8d60779964ae9571']:\n",
        "        continue\n",
        "      pos += 1\n",
        "      if 'pos' in row[-1]:\n",
        "        data.append([row[0],row[3],[0,0,1]])\n",
        "      elif 'neg' in row[-1]:\n",
        "        data.append([row[0],row[3],[0,1,0]])\n",
        "      elif 'neutral' in row[-1]:\n",
        "        data.append([row[0],row[3],[1,0,0]])\n",
        "validation_data = []\n",
        "with open('/content/drive/My Drive/semeval-2020_trialdata/data1.csv') as csv_file:\n",
        "    csv_reader = csv.reader(csv_file, delimiter=',')\n",
        "    for row in tqdm(csv_reader):      \n",
        "      pos += 1\n",
        "      if pos ==1:\n",
        "        continue\n",
        "      if 'pos' in row[-2]:\n",
        "        validation_data.append([row[0],row[3],[0,0,1]])\n",
        "      elif 'neg' in row[-2]:\n",
        "        validation_data.append([row[0],row[3],[0,1,0]])\n",
        "      elif 'neutral' in row[-2]:\n",
        "        validation_data.append([row[0],row[3],[1,0,0]])\n",
        "data = np.array(data)\n",
        "validation_data = np.array(validation_data)\n",
        "texts = [x[1] for x in data]\n",
        "val_texts =  [x[1] for x in validation_data]\n",
        "np.random.shuffle(data)\n",
        "np.random.shuffle(validation_data)\n",
        "print(validation_data.shape)\n",
        "print(data.shape)"
      ],
      "execution_count": 0,
      "outputs": [
        {
          "output_type": "display_data",
          "data": {
            "application/vnd.jupyter.widget-view+json": {
              "model_id": "d70a520e702343ebba35069b29a9d095",
              "version_minor": 0,
              "version_major": 2
            },
            "text/plain": [
              "HBox(children=(IntProgress(value=1, bar_style='info', max=1), HTML(value='')))"
            ]
          },
          "metadata": {
            "tags": []
          }
        },
        {
          "output_type": "stream",
          "text": [
            "\n"
          ],
          "name": "stdout"
        },
        {
          "output_type": "display_data",
          "data": {
            "application/vnd.jupyter.widget-view+json": {
              "model_id": "d7cc996e2628453f8d90078e864d99a0",
              "version_minor": 0,
              "version_major": 2
            },
            "text/plain": [
              "HBox(children=(IntProgress(value=1, bar_style='info', max=1), HTML(value='')))"
            ]
          },
          "metadata": {
            "tags": []
          }
        },
        {
          "output_type": "stream",
          "text": [
            "\n",
            "(914, 3)\n",
            "(6598, 3)\n"
          ],
          "name": "stdout"
        }
      ]
    },
    {
      "cell_type": "markdown",
      "metadata": {
        "id": "irx9_Ls8N5-3",
        "colab_type": "text"
      },
      "source": [
        "## Config Tokenizer\n"
      ]
    },
    {
      "cell_type": "code",
      "metadata": {
        "id": "OJcbLnqj_BmL",
        "colab_type": "code",
        "outputId": "270a30e9-8a2b-4467-97a6-54ed3eea7d21",
        "colab": {
          "base_uri": "https://localhost:8080/",
          "height": 100
        }
      },
      "source": [
        "from keras.preprocessing.sequence import pad_sequences\n",
        "from keras.preprocessing.text import Tokenizer\n",
        "\n",
        "tokenizer = Tokenizer(nb_words=30000)\n",
        "tokenizer.fit_on_texts(texts)\n",
        "sequences = tokenizer.texts_to_sequences(texts)\n",
        "val_sequences = tokenizer.texts_to_sequences(val_texts)\n",
        "\n",
        "word_index = tokenizer.word_index\n",
        "print('Found %s unique tokens.' % len(word_index))\n",
        "\n",
        "data1 = pad_sequences(sequences, maxlen=100)\n",
        "val_data1 = pad_sequences(val_sequences, maxlen=100)\n",
        "print('Shape of data tensor:', data1.shape)"
      ],
      "execution_count": 0,
      "outputs": [
        {
          "output_type": "stream",
          "text": [
            "Using TensorFlow backend.\n",
            "/usr/local/lib/python3.6/dist-packages/keras_preprocessing/text.py:178: UserWarning: The `nb_words` argument in `Tokenizer` has been renamed `num_words`.\n",
            "  warnings.warn('The `nb_words` argument in `Tokenizer` '\n"
          ],
          "name": "stderr"
        },
        {
          "output_type": "stream",
          "text": [
            "Found 12879 unique tokens.\n",
            "Shape of data tensor: (6598, 100)\n"
          ],
          "name": "stdout"
        }
      ]
    },
    {
      "cell_type": "markdown",
      "metadata": {
        "id": "srLS6iPxOGh0",
        "colab_type": "text"
      },
      "source": [
        "## loading vocab index to dataset\n"
      ]
    },
    {
      "cell_type": "code",
      "metadata": {
        "id": "qnmaybYFb60X",
        "colab_type": "code",
        "outputId": "acb3b3c5-c7db-4c43-92ea-9d4be0e52b98",
        "colab": {
          "base_uri": "https://localhost:8080/",
          "height": 50
        }
      },
      "source": [
        "for i,x in enumerate(data) :\n",
        "  x[1] = data1[i]\n",
        "for i,x in enumerate(validation_data) :\n",
        "  x[1] = val_data1[i]\n",
        "\n",
        "print(len(data1))\n",
        "print(len(val_data1))\n",
        "\n",
        "train_data = data\n",
        "val_data = validation_data"
      ],
      "execution_count": 0,
      "outputs": [
        {
          "output_type": "stream",
          "text": [
            "6598\n",
            "914\n"
          ],
          "name": "stdout"
        }
      ]
    },
    {
      "cell_type": "markdown",
      "metadata": {
        "id": "g-jWNetjmAoA",
        "colab_type": "text"
      },
      "source": [
        "## **Embedding** Model"
      ]
    },
    {
      "cell_type": "code",
      "metadata": {
        "id": "saP-ylDIfacC",
        "colab_type": "code",
        "outputId": "7d9cac9e-893e-4052-dba2-6edd246b6de1",
        "colab": {
          "base_uri": "https://localhost:8080/",
          "height": 450
        }
      },
      "source": [
        "\n",
        "!wget http://nlp.stanford.edu/data/glove.6B.zip\n",
        "!unzip glove.6B.zip\n",
        "import os\n",
        "embeddings_index = {}\n",
        "f = open(os.path.join('./', 'glove.6B.300d.txt'))\n",
        "for line in f:\n",
        "    values = line.split()\n",
        "    word = values[0]\n",
        "    coefs = np.asarray(values[1:], dtype='float32')\n",
        "    embeddings_index[word] = coefs\n",
        "f.close()\n",
        "\n",
        "print('Found %s word vectors.' % len(embeddings_index))\n",
        "embedding_matrix = np.zeros((len(word_index) + 1, 300))\n",
        "for word, i in word_index.items():\n",
        "    embedding_vector = embeddings_index.get(word)\n",
        "    if embedding_vector is not None:\n",
        "        embedding_matrix[i] = embedding_vector"
      ],
      "execution_count": 0,
      "outputs": [
        {
          "output_type": "stream",
          "text": [
            "--2020-01-25 12:48:30--  http://nlp.stanford.edu/data/glove.6B.zip\n",
            "Resolving nlp.stanford.edu (nlp.stanford.edu)... 171.64.67.140\n",
            "Connecting to nlp.stanford.edu (nlp.stanford.edu)|171.64.67.140|:80... connected.\n",
            "HTTP request sent, awaiting response... 302 Found\n",
            "Location: https://nlp.stanford.edu/data/glove.6B.zip [following]\n",
            "--2020-01-25 12:48:30--  https://nlp.stanford.edu/data/glove.6B.zip\n",
            "Connecting to nlp.stanford.edu (nlp.stanford.edu)|171.64.67.140|:443... connected.\n",
            "HTTP request sent, awaiting response... 301 Moved Permanently\n",
            "Location: http://downloads.cs.stanford.edu/nlp/data/glove.6B.zip [following]\n",
            "--2020-01-25 12:48:30--  http://downloads.cs.stanford.edu/nlp/data/glove.6B.zip\n",
            "Resolving downloads.cs.stanford.edu (downloads.cs.stanford.edu)... 171.64.64.22\n",
            "Connecting to downloads.cs.stanford.edu (downloads.cs.stanford.edu)|171.64.64.22|:80... connected.\n",
            "HTTP request sent, awaiting response... 200 OK\n",
            "Length: 862182613 (822M) [application/zip]\n",
            "Saving to: ‘glove.6B.zip’\n",
            "\n",
            "glove.6B.zip        100%[===================>] 822.24M  2.21MB/s    in 6m 26s  \n",
            "\n",
            "2020-01-25 12:54:57 (2.13 MB/s) - ‘glove.6B.zip’ saved [862182613/862182613]\n",
            "\n",
            "Archive:  glove.6B.zip\n",
            "  inflating: glove.6B.50d.txt        \n",
            "  inflating: glove.6B.100d.txt       \n",
            "  inflating: glove.6B.200d.txt       \n",
            "  inflating: glove.6B.300d.txt       \n",
            "Found 400000 word vectors.\n"
          ],
          "name": "stdout"
        }
      ]
    },
    {
      "cell_type": "markdown",
      "metadata": {
        "id": "lBd31amVKumB",
        "colab_type": "text"
      },
      "source": [
        "### **Custom Generator**"
      ]
    },
    {
      "cell_type": "code",
      "metadata": {
        "id": "dTaHskaBK2MD",
        "colab_type": "code",
        "colab": {}
      },
      "source": [
        "import numpy as np\n",
        "import keras\n"
      ],
      "execution_count": 0,
      "outputs": []
    },
    {
      "cell_type": "code",
      "metadata": {
        "id": "c0uXxWsZBDWh",
        "colab_type": "code",
        "colab": {}
      },
      "source": [
        "from skimage.io import imread\n",
        "import cv2\n",
        "from skimage.transform import rescale, resize, downscale_local_mean\n",
        "\n",
        "import numpy as np\n",
        "import pandas as pd\n",
        "def get_input(sample,path_to_img):\n",
        "  img = cv2.imread(path_to_img+sample[0],3)\n",
        "  txt = sample[1]\n",
        "  try:\n",
        "    img = cv2.resize(img, (150,150), interpolation = cv2.INTER_AREA)\n",
        "  except:\n",
        "    print(\"PROBLEM\")\n",
        "    img = cv2.resize(cv2.imread('/content/drive/My Drive/memotion_analysis_training_data/data_7000/'+data[0][0],3),(150,150))\n",
        "    return [img,txt]\n",
        "  return [img,txt]\n",
        "\n",
        "def get_output(sample):    \n",
        "    return sample[2]\n",
        "\n",
        "def image_generator1(data,batch_size = 64,path_to_img=''):\n",
        "    \n",
        "    while True:\n",
        "          batch_paths = np.random.choice(a = range(len(data)), \n",
        "                                         size = batch_size)\n",
        "          batch_input = []\n",
        "          batch_output = [] \n",
        "          batch_imgs = []\n",
        "          batch_txts = []\n",
        "          \n",
        "          for sample in batch_paths:\n",
        "\n",
        "              input = get_input(data[sample],path_to_img )\n",
        "              output = get_output(data[sample])\n",
        "              batch_imgs += [input[0]]\n",
        "              batch_txts += [input[1]]\n",
        "              batch_output += [ output ]\n",
        "\n",
        "          batch_y = np.array(batch_output)\n",
        "          batch_txts = np.array(batch_txts)\n",
        "          batch_imgs = np.array(batch_imgs) \n",
        "          yield [batch_imgs,batch_txts],batch_y\n",
        "\n",
        "\n",
        "data_gen = image_generator1(train_data,16,'/content/drive/My Drive/memotion_analysis_training_data/data_7000/')\n",
        "val_gen = image_generator1(val_data,16,'/content/drive/My Drive/semeval-2020_trialdata/Meme_images/')"
      ],
      "execution_count": 0,
      "outputs": []
    },
    {
      "cell_type": "markdown",
      "metadata": {
        "id": "A2OwJaNbwQvp",
        "colab_type": "text"
      },
      "source": [
        "*Model*  new metrics"
      ]
    },
    {
      "cell_type": "code",
      "metadata": {
        "id": "9l_JgtSBnQs6",
        "colab_type": "code",
        "colab": {}
      },
      "source": [
        "from keras.optimizers import Adam\n",
        "from keras import backend as K\n",
        "\n",
        "def recall(y_true, y_pred):\n",
        "\n",
        "    true_positives = K.sum(K.round(K.clip(y_true * y_pred, 0, 1)))\n",
        "    possible_positives = K.sum(K.round(K.clip(y_true, 0, 1)))\n",
        "    recall = true_positives / (possible_positives + K.epsilon())\n",
        "    return recall\n",
        "\n",
        "\n",
        "def precision(y_true, y_pred):\n",
        "\n",
        "    true_positives = K.sum(K.round(K.clip(y_true * y_pred, 0, 1)))\n",
        "    predicted_positives = K.sum(K.round(K.clip(y_pred, 0, 1)))\n",
        "    precision = true_positives / (predicted_positives + K.epsilon())\n",
        "    return precision\n",
        "\n",
        "\n",
        "def f1(y_true, y_pred):\n",
        "    p = precision(y_true, y_pred)\n",
        "    r = recall(y_true, y_pred)\n",
        "    return 2 * ((p * r) / (p + r))"
      ],
      "execution_count": 0,
      "outputs": []
    },
    {
      "cell_type": "markdown",
      "metadata": {
        "id": "AuLQJXzZlJud",
        "colab_type": "text"
      },
      "source": [
        "### **Base Line is 59.6 percent**\n",
        "network is like"
      ]
    },
    {
      "cell_type": "code",
      "metadata": {
        "id": "f464JMqDpw-L",
        "colab_type": "code",
        "outputId": "327e7943-0f0e-4502-b0ef-2c41300319e3",
        "colab": {
          "base_uri": "https://localhost:8080/",
          "height": 1000
        }
      },
      "source": [
        "from keras.layers import Input,Conv2D,MaxPooling2D,Flatten,Dense,Dropout\n",
        "from keras.models import Model\n",
        "from keras.preprocessing.image import ImageDataGenerator\n",
        "from keras.applications import VGG16\n",
        "from keras import models\n",
        "from keras import layers\n",
        "from keras.applications.imagenet_utils import preprocess_input\n",
        "from keras import optimizers\n",
        "from keras import metrics\n",
        "from PIL import ImageFile\n",
        "ImageFile.LOAD_TRUNCATED_IMAGES = True\n",
        "##############################################################\n",
        "input_img = Input(shape=(150,150,3))\n",
        "model = VGG16(weights='imagenet', include_top=False)\n",
        "for layer in model.layers:\n",
        "    layer.trainable = False\n",
        "x = model(input_img)\n",
        "flatten = Flatten()(x)\n",
        "flatten = Dense(1024, activation='relu')(flatten)\n",
        "flatten = Dense(512, activation='relu')(flatten)\n",
        "##########################################################\n",
        "\n",
        "input_txt = Input(shape=(100,), dtype='int32')\n",
        "print(input_txt)\n",
        "txt = layers.Masking(mask_value=0)(input_txt)\n",
        "txt = layers.Embedding(len(word_index) + 1,\n",
        "                            300,\n",
        "                            weights=[embedding_matrix],\n",
        "                            input_length=100,\n",
        "                            trainable=False)(txt)\n",
        "\n",
        "txt = layers.Conv1D(32, 5)(txt)\n",
        "txt = layers.Conv1D(60, 4)(txt)\n",
        "txt = layers.Conv1D(100, 3)(txt)\n",
        "text_lstm = layers.Bidirectional(layers.LSTM(30,return_sequences=True))(txt)\n",
        "text_lstm = layers.Bidirectional(layers.LSTM(30,return_sequences=True))(text_lstm)\n",
        "text_lstm = layers.Bidirectional(layers.LSTM(30,return_sequences=False))(text_lstm)\n",
        "text_lstm = Dense(512, activation='relu')(text_lstm)\n",
        "merged = keras.layers.concatenate([text_lstm,flatten], axis=1)\n",
        "#################################################################\n",
        "dense = Dense(1024, activation='relu')(merged)\n",
        "dense = Dropout(0.1)(dense) \n",
        "dense = Dense(512, activation='relu')(dense)\n",
        "dense = Dense(256, activation='relu')(dense)\n",
        "dense = Dense(128, activation='relu')(dense)\n",
        "dense = Dense(3, activation='softmax')(dense)\n",
        "model = Model(inputs=(input_img,input_txt), outputs=dense)\n",
        "model.summary()\n",
        "model.compile(loss='categorical_crossentropy',\n",
        "              optimizer=keras.optimizers.Adam(lr=2e-5),\n",
        "              # optimizer=optimizers.RMSprop(),\n",
        "              metrics=[\"accuracy\",f1,recall,precision])\n",
        "history = model.fit_generator(\n",
        "      data_gen,\n",
        "      steps_per_epoch=20,\n",
        "      epochs=100,\n",
        "      validation_data=val_gen,\n",
        "      validation_steps=23)\n",
        "\n",
        "\n",
        "\n"
      ],
      "execution_count": 0,
      "outputs": [
        {
          "output_type": "stream",
          "text": [
            "Tensor(\"input_6:0\", shape=(?, 100), dtype=int32)\n",
            "Model: \"model_2\"\n",
            "__________________________________________________________________________________________________\n",
            "Layer (type)                    Output Shape         Param #     Connected to                     \n",
            "==================================================================================================\n",
            "input_6 (InputLayer)            (None, 100)          0                                            \n",
            "__________________________________________________________________________________________________\n",
            "masking_2 (Masking)             (None, 100)          0           input_6[0][0]                    \n",
            "__________________________________________________________________________________________________\n",
            "embedding_2 (Embedding)         (None, 100, 300)     3864000     masking_2[0][0]                  \n",
            "__________________________________________________________________________________________________\n",
            "conv1d_4 (Conv1D)               (None, 96, 32)       48032       embedding_2[0][0]                \n",
            "__________________________________________________________________________________________________\n",
            "conv1d_5 (Conv1D)               (None, 93, 60)       7740        conv1d_4[0][0]                   \n",
            "__________________________________________________________________________________________________\n",
            "conv1d_6 (Conv1D)               (None, 91, 100)      18100       conv1d_5[0][0]                   \n",
            "__________________________________________________________________________________________________\n",
            "input_4 (InputLayer)            (None, 150, 150, 3)  0                                            \n",
            "__________________________________________________________________________________________________\n",
            "bidirectional_4 (Bidirectional) (None, 91, 60)       31440       conv1d_6[0][0]                   \n",
            "__________________________________________________________________________________________________\n",
            "vgg16 (Model)                   multiple             14714688    input_4[0][0]                    \n",
            "__________________________________________________________________________________________________\n",
            "bidirectional_5 (Bidirectional) (None, 91, 60)       21840       bidirectional_4[0][0]            \n",
            "__________________________________________________________________________________________________\n",
            "flatten_2 (Flatten)             (None, 8192)         0           vgg16[1][0]                      \n",
            "__________________________________________________________________________________________________\n",
            "bidirectional_6 (Bidirectional) (None, 60)           21840       bidirectional_5[0][0]            \n",
            "__________________________________________________________________________________________________\n",
            "dense_8 (Dense)                 (None, 1024)         8389632     flatten_2[0][0]                  \n",
            "__________________________________________________________________________________________________\n",
            "dense_10 (Dense)                (None, 512)          31232       bidirectional_6[0][0]            \n",
            "__________________________________________________________________________________________________\n",
            "dense_9 (Dense)                 (None, 512)          524800      dense_8[0][0]                    \n",
            "__________________________________________________________________________________________________\n",
            "concatenate_2 (Concatenate)     (None, 1024)         0           dense_10[0][0]                   \n",
            "                                                                 dense_9[0][0]                    \n",
            "__________________________________________________________________________________________________\n",
            "dense_11 (Dense)                (None, 1024)         1049600     concatenate_2[0][0]              \n",
            "__________________________________________________________________________________________________\n",
            "dropout_3 (Dropout)             (None, 1024)         0           dense_11[0][0]                   \n",
            "__________________________________________________________________________________________________\n",
            "dense_12 (Dense)                (None, 256)          262400      dropout_3[0][0]                  \n",
            "__________________________________________________________________________________________________\n",
            "dense_13 (Dense)                (None, 128)          32896       dense_12[0][0]                   \n",
            "__________________________________________________________________________________________________\n",
            "dense_14 (Dense)                (None, 3)            387         dense_13[0][0]                   \n",
            "==================================================================================================\n",
            "Total params: 29,018,627\n",
            "Trainable params: 10,439,939\n",
            "Non-trainable params: 18,578,688\n",
            "__________________________________________________________________________________________________\n",
            "Epoch 1/100\n",
            "20/20 [==============================] - 184s 9s/step - loss: 1.8397 - acc: 0.4625 - f1: 0.4579 - recall: 0.4469 - precision: 0.4707 - val_loss: 1.2979 - val_acc: 0.5543 - val_f1: 0.5468 - val_recall: 0.5353 - val_precision: 0.5601\n",
            "Epoch 2/100\n",
            "20/20 [==============================] - 173s 9s/step - loss: 1.4889 - acc: 0.4688 - f1: 0.4635 - recall: 0.4500 - precision: 0.4784 - val_loss: 1.2887 - val_acc: 0.5217 - val_f1: 0.5107 - val_recall: 0.4918 - val_precision: 0.5318\n",
            "Epoch 3/100\n",
            "20/20 [==============================] - 174s 9s/step - loss: 1.3613 - acc: 0.4500 - f1: 0.4475 - recall: 0.4281 - precision: 0.4712 - val_loss: 1.5124 - val_acc: 0.3804 - val_f1: 0.3653 - val_recall: 0.3478 - val_precision: 0.3855\n",
            "Epoch 4/100\n",
            "20/20 [==============================] - 174s 9s/step - loss: 1.3046 - acc: 0.5344 - f1: 0.5230 - recall: 0.5062 - precision: 0.5419 - val_loss: 1.2426 - val_acc: 0.4946 - val_f1: 0.4807 - val_recall: 0.4674 - val_precision: 0.4957\n",
            "Epoch 5/100\n",
            "20/20 [==============================] - 175s 9s/step - loss: 1.2519 - acc: 0.5406 - f1: 0.5135 - recall: 0.4906 - precision: 0.5395 - val_loss: 0.9775 - val_acc: 0.6005 - val_f1: 0.5982 - val_recall: 0.5842 - val_precision: 0.6138\n",
            "Epoch 6/100\n",
            "20/20 [==============================] - 176s 9s/step - loss: 1.3110 - acc: 0.5563 - f1: 0.5521 - recall: 0.5375 - precision: 0.5687 - val_loss: 1.2450 - val_acc: 0.5707 - val_f1: 0.5434 - val_recall: 0.5163 - val_precision: 0.5749\n",
            "Epoch 7/100\n",
            " 2/20 [==>...........................] - ETA: 1:18 - loss: 1.2474 - acc: 0.4062 - f1: 0.3790 - recall: 0.3750 - precision: 0.3833PROBLEM\n",
            "20/20 [==============================] - 176s 9s/step - loss: 1.1155 - acc: 0.5094 - f1: 0.4945 - recall: 0.4781 - precision: 0.5135 - val_loss: 1.0500 - val_acc: 0.5543 - val_f1: 0.5402 - val_recall: 0.5217 - val_precision: 0.5612\n",
            "Epoch 8/100\n",
            "20/20 [==============================] - 176s 9s/step - loss: 1.1693 - acc: 0.5875 - f1: 0.5822 - recall: 0.5594 - precision: 0.6090 - val_loss: 1.0961 - val_acc: 0.5462 - val_f1: 0.5152 - val_recall: 0.4701 - val_precision: 0.5749\n",
            "Epoch 9/100\n",
            "20/20 [==============================] - 176s 9s/step - loss: 1.0770 - acc: 0.5344 - f1: 0.5287 - recall: 0.4938 - precision: 0.5715 - val_loss: 0.9610 - val_acc: 0.5897 - val_f1: 0.5655 - val_recall: 0.5353 - val_precision: 0.6025\n",
            "Epoch 10/100\n",
            "20/20 [==============================] - 176s 9s/step - loss: 1.0506 - acc: 0.5437 - f1: 0.5379 - recall: 0.5125 - precision: 0.5673 - val_loss: 0.9365 - val_acc: 0.6630 - val_f1: 0.6428 - val_recall: 0.6141 - val_precision: 0.6760\n",
            "Epoch 11/100\n",
            "20/20 [==============================] - 177s 9s/step - loss: 1.0735 - acc: 0.5594 - f1: 0.5450 - recall: 0.5281 - precision: 0.5645 - val_loss: 0.9051 - val_acc: 0.6304 - val_f1: 0.6008 - val_recall: 0.5652 - val_precision: 0.6481\n",
            "Epoch 12/100\n",
            "20/20 [==============================] - 175s 9s/step - loss: 0.9185 - acc: 0.6312 - f1: 0.6204 - recall: 0.5938 - precision: 0.6529 - val_loss: 0.9050 - val_acc: 0.6277 - val_f1: 0.6031 - val_recall: 0.5707 - val_precision: 0.6414\n",
            "Epoch 13/100\n",
            "20/20 [==============================] - 175s 9s/step - loss: 1.0211 - acc: 0.5531 - f1: 0.5399 - recall: 0.5125 - precision: 0.5728 - val_loss: 0.9014 - val_acc: 0.6196 - val_f1: 0.6128 - val_recall: 0.5788 - val_precision: 0.6533\n",
            "Epoch 14/100\n",
            "20/20 [==============================] - 176s 9s/step - loss: 0.9453 - acc: 0.6125 - f1: 0.5940 - recall: 0.5531 - precision: 0.6451 - val_loss: 0.9240 - val_acc: 0.6413 - val_f1: 0.6240 - val_recall: 0.5897 - val_precision: 0.6643\n",
            "Epoch 15/100\n",
            "20/20 [==============================] - 175s 9s/step - loss: 0.8383 - acc: 0.6594 - f1: 0.6509 - recall: 0.6312 - precision: 0.6733 - val_loss: 0.8180 - val_acc: 0.6685 - val_f1: 0.6570 - val_recall: 0.6359 - val_precision: 0.6821\n",
            "Epoch 16/100\n",
            "20/20 [==============================] - 175s 9s/step - loss: 0.8788 - acc: 0.6469 - f1: 0.6436 - recall: 0.6219 - precision: 0.6689 - val_loss: 0.8418 - val_acc: 0.6304 - val_f1: 0.6293 - val_recall: 0.6033 - val_precision: 0.6588\n",
            "Epoch 17/100\n",
            "20/20 [==============================] - 175s 9s/step - loss: 0.8950 - acc: 0.6188 - f1: 0.6046 - recall: 0.5781 - precision: 0.6349 - val_loss: 0.8244 - val_acc: 0.6495 - val_f1: 0.6414 - val_recall: 0.5951 - val_precision: 0.6985\n",
            "Epoch 18/100\n",
            "10/20 [==============>...............] - ETA: 42s - loss: 0.8779 - acc: 0.6250 - f1: 0.5904 - recall: 0.5625 - precision: 0.6221PROBLEM\n",
            "20/20 [==============================] - 174s 9s/step - loss: 0.8376 - acc: 0.6469 - f1: 0.6296 - recall: 0.5969 - precision: 0.6681 - val_loss: 0.9445 - val_acc: 0.6223 - val_f1: 0.5983 - val_recall: 0.5652 - val_precision: 0.6374\n",
            "Epoch 19/100\n",
            "20/20 [==============================] - 174s 9s/step - loss: 0.9002 - acc: 0.6531 - f1: 0.6482 - recall: 0.6219 - precision: 0.6793 - val_loss: 0.8645 - val_acc: 0.7065 - val_f1: 0.6929 - val_recall: 0.6630 - val_precision: 0.7277\n",
            "Epoch 20/100\n",
            "20/20 [==============================] - 175s 9s/step - loss: 0.7909 - acc: 0.6625 - f1: 0.6555 - recall: 0.6219 - precision: 0.6948 - val_loss: 0.8273 - val_acc: 0.6712 - val_f1: 0.6536 - val_recall: 0.6304 - val_precision: 0.6799\n",
            "Epoch 21/100\n",
            "20/20 [==============================] - 174s 9s/step - loss: 0.7376 - acc: 0.6969 - f1: 0.7010 - recall: 0.6719 - precision: 0.7344 - val_loss: 0.8769 - val_acc: 0.6712 - val_f1: 0.6602 - val_recall: 0.6359 - val_precision: 0.6885\n",
            "Epoch 22/100\n",
            "20/20 [==============================] - 174s 9s/step - loss: 0.7690 - acc: 0.7031 - f1: 0.6915 - recall: 0.6594 - precision: 0.7295 - val_loss: 0.7705 - val_acc: 0.6957 - val_f1: 0.6731 - val_recall: 0.6549 - val_precision: 0.6939\n",
            "Epoch 23/100\n",
            "20/20 [==============================] - 174s 9s/step - loss: 0.7446 - acc: 0.6562 - f1: 0.6559 - recall: 0.6344 - precision: 0.6808 - val_loss: 0.7253 - val_acc: 0.7147 - val_f1: 0.7085 - val_recall: 0.6821 - val_precision: 0.7398\n",
            "Epoch 24/100\n",
            "20/20 [==============================] - 174s 9s/step - loss: 0.7861 - acc: 0.7063 - f1: 0.7004 - recall: 0.6813 - precision: 0.7218 - val_loss: 0.6584 - val_acc: 0.7310 - val_f1: 0.7243 - val_recall: 0.6984 - val_precision: 0.7535\n",
            "Epoch 25/100\n",
            "20/20 [==============================] - 175s 9s/step - loss: 0.7426 - acc: 0.7344 - f1: 0.7070 - recall: 0.6719 - precision: 0.7480 - val_loss: 0.7937 - val_acc: 0.6902 - val_f1: 0.6548 - val_recall: 0.6223 - val_precision: 0.6934\n",
            "Epoch 26/100\n",
            "20/20 [==============================] - 175s 9s/step - loss: 0.6619 - acc: 0.7531 - f1: 0.7411 - recall: 0.7094 - precision: 0.7786 - val_loss: 0.7045 - val_acc: 0.7174 - val_f1: 0.7110 - val_recall: 0.6875 - val_precision: 0.7371\n",
            "Epoch 27/100\n",
            "20/20 [==============================] - 176s 9s/step - loss: 0.6882 - acc: 0.7375 - f1: 0.7202 - recall: 0.6906 - precision: 0.7547 - val_loss: 0.7405 - val_acc: 0.6685 - val_f1: 0.6519 - val_recall: 0.6196 - val_precision: 0.6896\n",
            "Epoch 28/100\n",
            "20/20 [==============================] - 175s 9s/step - loss: 0.7324 - acc: 0.6844 - f1: 0.6717 - recall: 0.6281 - precision: 0.7263 - val_loss: 0.7394 - val_acc: 0.7201 - val_f1: 0.7022 - val_recall: 0.6712 - val_precision: 0.7380\n",
            "Epoch 29/100\n",
            "20/20 [==============================] - 174s 9s/step - loss: 0.7286 - acc: 0.7125 - f1: 0.6991 - recall: 0.6594 - precision: 0.7472 - val_loss: 0.7309 - val_acc: 0.7065 - val_f1: 0.6950 - val_recall: 0.6576 - val_precision: 0.7391\n",
            "Epoch 30/100\n",
            "19/20 [===========================>..] - ETA: 4s - loss: 0.7589 - acc: 0.7105 - f1: 0.6778 - recall: 0.6414 - precision: 0.7204PROBLEM\n",
            "20/20 [==============================] - 174s 9s/step - loss: 0.7460 - acc: 0.7125 - f1: 0.6827 - recall: 0.6469 - precision: 0.7244 - val_loss: 0.5791 - val_acc: 0.7935 - val_f1: 0.7922 - val_recall: 0.7690 - val_precision: 0.8190\n",
            "Epoch 31/100\n",
            "20/20 [==============================] - 175s 9s/step - loss: 0.6868 - acc: 0.7219 - f1: 0.7147 - recall: 0.6875 - precision: 0.7467 - val_loss: 0.7336 - val_acc: 0.7065 - val_f1: 0.7010 - val_recall: 0.6630 - val_precision: 0.7469\n",
            "Epoch 32/100\n",
            "20/20 [==============================] - 174s 9s/step - loss: 0.6213 - acc: 0.7375 - f1: 0.7340 - recall: 0.7031 - precision: 0.7694 - val_loss: 0.7701 - val_acc: 0.7337 - val_f1: 0.7199 - val_recall: 0.6821 - val_precision: 0.7646\n",
            "Epoch 33/100\n",
            "20/20 [==============================] - 175s 9s/step - loss: 0.5692 - acc: 0.7688 - f1: 0.7615 - recall: 0.7344 - precision: 0.7925 - val_loss: 0.6717 - val_acc: 0.7500 - val_f1: 0.7342 - val_recall: 0.7038 - val_precision: 0.7709\n",
            "Epoch 34/100\n",
            "20/20 [==============================] - 174s 9s/step - loss: 0.6096 - acc: 0.7656 - f1: 0.7660 - recall: 0.7438 - precision: 0.7914 - val_loss: 0.7447 - val_acc: 0.7147 - val_f1: 0.6982 - val_recall: 0.6685 - val_precision: 0.7334\n",
            "Epoch 35/100\n",
            "20/20 [==============================] - 175s 9s/step - loss: 0.5991 - acc: 0.7375 - f1: 0.7194 - recall: 0.6813 - precision: 0.7660 - val_loss: 0.6809 - val_acc: 0.7473 - val_f1: 0.7338 - val_recall: 0.7038 - val_precision: 0.7694\n",
            "Epoch 36/100\n",
            "20/20 [==============================] - 175s 9s/step - loss: 0.6497 - acc: 0.7594 - f1: 0.7503 - recall: 0.7281 - precision: 0.7760 - val_loss: 0.7311 - val_acc: 0.7446 - val_f1: 0.7229 - val_recall: 0.6902 - val_precision: 0.7617\n",
            "Epoch 37/100\n",
            "20/20 [==============================] - 175s 9s/step - loss: 0.6560 - acc: 0.7469 - f1: 0.7281 - recall: 0.7000 - precision: 0.7603 - val_loss: 0.7257 - val_acc: 0.7283 - val_f1: 0.7012 - val_recall: 0.6658 - val_precision: 0.7433\n",
            "Epoch 38/100\n",
            "20/20 [==============================] - 174s 9s/step - loss: 0.5621 - acc: 0.7438 - f1: 0.7431 - recall: 0.7156 - precision: 0.7749 - val_loss: 0.7675 - val_acc: 0.7038 - val_f1: 0.6992 - val_recall: 0.6766 - val_precision: 0.7244\n",
            "Epoch 39/100\n",
            "20/20 [==============================] - 175s 9s/step - loss: 0.5827 - acc: 0.7812 - f1: 0.7685 - recall: 0.7438 - precision: 0.7968 - val_loss: 0.6197 - val_acc: 0.7880 - val_f1: 0.7703 - val_recall: 0.7418 - val_precision: 0.8030\n",
            "Epoch 40/100\n",
            "20/20 [==============================] - 175s 9s/step - loss: 0.6106 - acc: 0.7531 - f1: 0.7538 - recall: 0.7250 - precision: 0.7869 - val_loss: 0.5681 - val_acc: 0.7826 - val_f1: 0.7692 - val_recall: 0.7446 - val_precision: 0.7969\n",
            "Epoch 41/100\n",
            "20/20 [==============================] - 175s 9s/step - loss: 0.5294 - acc: 0.8094 - f1: 0.7996 - recall: 0.7750 - precision: 0.8275 - val_loss: 0.6082 - val_acc: 0.7908 - val_f1: 0.7783 - val_recall: 0.7473 - val_precision: 0.8142\n",
            "Epoch 42/100\n",
            "20/20 [==============================] - 176s 9s/step - loss: 0.5838 - acc: 0.7625 - f1: 0.7654 - recall: 0.7438 - precision: 0.7901 - val_loss: 0.5915 - val_acc: 0.7908 - val_f1: 0.7695 - val_recall: 0.7473 - val_precision: 0.7956\n",
            "Epoch 43/100\n",
            "20/20 [==============================] - 173s 9s/step - loss: 0.5394 - acc: 0.7969 - f1: 0.7931 - recall: 0.7688 - precision: 0.8225 - val_loss: 0.6304 - val_acc: 0.7880 - val_f1: 0.7653 - val_recall: 0.7391 - val_precision: 0.7950\n",
            "Epoch 44/100\n",
            "20/20 [==============================] - 177s 9s/step - loss: 0.4738 - acc: 0.8094 - f1: 0.8066 - recall: 0.7844 - precision: 0.8318 - val_loss: 0.6006 - val_acc: 0.8071 - val_f1: 0.7933 - val_recall: 0.7717 - val_precision: 0.8181\n",
            "Epoch 45/100\n",
            "20/20 [==============================] - 177s 9s/step - loss: 0.5250 - acc: 0.8188 - f1: 0.8092 - recall: 0.7844 - precision: 0.8377 - val_loss: 0.6190 - val_acc: 0.7826 - val_f1: 0.7788 - val_recall: 0.7527 - val_precision: 0.8083\n",
            "Epoch 46/100\n",
            "20/20 [==============================] - 176s 9s/step - loss: 0.5452 - acc: 0.7844 - f1: 0.7780 - recall: 0.7562 - precision: 0.8030 - val_loss: 0.6851 - val_acc: 0.7663 - val_f1: 0.7539 - val_recall: 0.7228 - val_precision: 0.7905\n",
            "Epoch 47/100\n",
            "20/20 [==============================] - 175s 9s/step - loss: 0.5785 - acc: 0.8031 - f1: 0.7869 - recall: 0.7625 - precision: 0.8144 - val_loss: 0.6643 - val_acc: 0.7745 - val_f1: 0.7645 - val_recall: 0.7283 - val_precision: 0.8088\n",
            "Epoch 48/100\n",
            "20/20 [==============================] - 175s 9s/step - loss: 0.4690 - acc: 0.8469 - f1: 0.8278 - recall: 0.8000 - precision: 0.8603 - val_loss: 0.5804 - val_acc: 0.8234 - val_f1: 0.7981 - val_recall: 0.7636 - val_precision: 0.8390\n",
            "Epoch 49/100\n",
            "20/20 [==============================] - 175s 9s/step - loss: 0.3971 - acc: 0.8562 - f1: 0.8462 - recall: 0.8188 - precision: 0.8776 - val_loss: 0.5333 - val_acc: 0.8016 - val_f1: 0.7807 - val_recall: 0.7527 - val_precision: 0.8122\n",
            "Epoch 50/100\n",
            "20/20 [==============================] - 175s 9s/step - loss: 0.4873 - acc: 0.8250 - f1: 0.8200 - recall: 0.8062 - precision: 0.8351 - val_loss: 0.5577 - val_acc: 0.7826 - val_f1: 0.7662 - val_recall: 0.7418 - val_precision: 0.7934\n",
            "Epoch 51/100\n",
            "20/20 [==============================] - 175s 9s/step - loss: 0.4351 - acc: 0.8438 - f1: 0.8431 - recall: 0.8250 - precision: 0.8628 - val_loss: 0.5669 - val_acc: 0.8179 - val_f1: 0.8106 - val_recall: 0.7962 - val_precision: 0.8270\n",
            "Epoch 52/100\n",
            "20/20 [==============================] - 174s 9s/step - loss: 0.4036 - acc: 0.8781 - f1: 0.8727 - recall: 0.8500 - precision: 0.8991 - val_loss: 0.6441 - val_acc: 0.7908 - val_f1: 0.7787 - val_recall: 0.7554 - val_precision: 0.8052\n",
            "Epoch 53/100\n",
            "20/20 [==============================] - 175s 9s/step - loss: 0.4653 - acc: 0.8500 - f1: 0.8291 - recall: 0.8031 - precision: 0.8592 - val_loss: 0.6675 - val_acc: 0.7772 - val_f1: 0.7709 - val_recall: 0.7609 - val_precision: 0.7815\n",
            "Epoch 54/100\n",
            "20/20 [==============================] - 175s 9s/step - loss: 0.5124 - acc: 0.7937 - f1: 0.7882 - recall: 0.7719 - precision: 0.8068 - val_loss: 0.5765 - val_acc: 0.8071 - val_f1: 0.7912 - val_recall: 0.7717 - val_precision: 0.8129\n",
            "Epoch 55/100\n",
            "20/20 [==============================] - 173s 9s/step - loss: 0.4114 - acc: 0.8500 - f1: 0.8489 - recall: 0.8344 - precision: 0.8660 - val_loss: 0.5997 - val_acc: 0.8179 - val_f1: 0.8218 - val_recall: 0.8098 - val_precision: 0.8352\n",
            "Epoch 56/100\n",
            "20/20 [==============================] - 174s 9s/step - loss: 0.3856 - acc: 0.8594 - f1: 0.8587 - recall: 0.8313 - precision: 0.8894 - val_loss: 0.5878 - val_acc: 0.7690 - val_f1: 0.7693 - val_recall: 0.7473 - val_precision: 0.7946\n",
            "Epoch 57/100\n",
            "20/20 [==============================] - 173s 9s/step - loss: 0.4816 - acc: 0.8125 - f1: 0.8084 - recall: 0.7969 - precision: 0.8215 - val_loss: 0.4875 - val_acc: 0.8397 - val_f1: 0.8335 - val_recall: 0.8207 - val_precision: 0.8475\n",
            "Epoch 58/100\n",
            "20/20 [==============================] - 176s 9s/step - loss: 0.3786 - acc: 0.8719 - f1: 0.8721 - recall: 0.8562 - precision: 0.8895 - val_loss: 0.6704 - val_acc: 0.8016 - val_f1: 0.7967 - val_recall: 0.7826 - val_precision: 0.8126\n",
            "Epoch 59/100\n",
            "20/20 [==============================] - 175s 9s/step - loss: 0.4358 - acc: 0.8406 - f1: 0.8401 - recall: 0.8188 - precision: 0.8648 - val_loss: 0.5622 - val_acc: 0.8125 - val_f1: 0.8108 - val_recall: 0.7908 - val_precision: 0.8325\n",
            "Epoch 60/100\n",
            "20/20 [==============================] - 177s 9s/step - loss: 0.3733 - acc: 0.8687 - f1: 0.8694 - recall: 0.8438 - precision: 0.8984 - val_loss: 0.5507 - val_acc: 0.8207 - val_f1: 0.8152 - val_recall: 0.7989 - val_precision: 0.8331\n",
            "Epoch 61/100\n",
            "20/20 [==============================] - 175s 9s/step - loss: 0.4597 - acc: 0.8469 - f1: 0.8390 - recall: 0.8250 - precision: 0.8542 - val_loss: 0.6244 - val_acc: 0.7799 - val_f1: 0.7779 - val_recall: 0.7582 - val_precision: 0.7997\n",
            "Epoch 62/100\n",
            "20/20 [==============================] - 177s 9s/step - loss: 0.4035 - acc: 0.8875 - f1: 0.8776 - recall: 0.8562 - precision: 0.9014 - val_loss: 0.7159 - val_acc: 0.7391 - val_f1: 0.7338 - val_recall: 0.7255 - val_precision: 0.7428\n",
            "Epoch 63/100\n",
            "20/20 [==============================] - 176s 9s/step - loss: 0.3559 - acc: 0.8687 - f1: 0.8657 - recall: 0.8438 - precision: 0.8904 - val_loss: 0.5819 - val_acc: 0.8016 - val_f1: 0.8035 - val_recall: 0.7908 - val_precision: 0.8178\n",
            "Epoch 64/100\n",
            "20/20 [==============================] - 172s 9s/step - loss: 0.3566 - acc: 0.8656 - f1: 0.8605 - recall: 0.8500 - precision: 0.8718 - val_loss: 0.5857 - val_acc: 0.7962 - val_f1: 0.7928 - val_recall: 0.7772 - val_precision: 0.8098\n",
            "Epoch 65/100\n",
            "20/20 [==============================] - 173s 9s/step - loss: 0.4473 - acc: 0.8469 - f1: 0.8413 - recall: 0.8219 - precision: 0.8629 - val_loss: 0.5638 - val_acc: 0.8179 - val_f1: 0.7981 - val_recall: 0.7799 - val_precision: 0.8190\n",
            "Epoch 66/100\n",
            "20/20 [==============================] - 176s 9s/step - loss: 0.3485 - acc: 0.8781 - f1: 0.8779 - recall: 0.8594 - precision: 0.8984 - val_loss: 0.5091 - val_acc: 0.8370 - val_f1: 0.8328 - val_recall: 0.8261 - val_precision: 0.8402\n",
            "Epoch 67/100\n",
            "20/20 [==============================] - 173s 9s/step - loss: 0.3155 - acc: 0.8875 - f1: 0.8868 - recall: 0.8687 - precision: 0.9063 - val_loss: 0.6308 - val_acc: 0.8071 - val_f1: 0.8036 - val_recall: 0.7880 - val_precision: 0.8206\n",
            "Epoch 68/100\n",
            "20/20 [==============================] - 173s 9s/step - loss: 0.3181 - acc: 0.9125 - f1: 0.9109 - recall: 0.8906 - precision: 0.9336 - val_loss: 0.5312 - val_acc: 0.8098 - val_f1: 0.8068 - val_recall: 0.7962 - val_precision: 0.8187\n",
            "Epoch 69/100\n",
            "12/20 [=================>............] - ETA: 34s - loss: 0.3804 - acc: 0.8854 - f1: 0.8889 - recall: 0.8802 - precision: 0.8983PROBLEM\n",
            "20/20 [==============================] - 174s 9s/step - loss: 0.3670 - acc: 0.9000 - f1: 0.8892 - recall: 0.8750 - precision: 0.9052 - val_loss: 0.5937 - val_acc: 0.8207 - val_f1: 0.8221 - val_recall: 0.8098 - val_precision: 0.8355\n",
            "Epoch 70/100\n",
            "20/20 [==============================] - 172s 9s/step - loss: 0.3731 - acc: 0.8750 - f1: 0.8658 - recall: 0.8469 - precision: 0.8864 - val_loss: 0.6112 - val_acc: 0.8098 - val_f1: 0.8097 - val_recall: 0.7962 - val_precision: 0.8245\n",
            "Epoch 71/100\n",
            "20/20 [==============================] - 174s 9s/step - loss: 0.4119 - acc: 0.8687 - f1: 0.8620 - recall: 0.8469 - precision: 0.8789 - val_loss: 0.5422 - val_acc: 0.8261 - val_f1: 0.8315 - val_recall: 0.8179 - val_precision: 0.8468\n",
            "Epoch 72/100\n",
            "20/20 [==============================] - 174s 9s/step - loss: 0.3165 - acc: 0.9000 - f1: 0.9028 - recall: 0.8906 - precision: 0.9165 - val_loss: 0.4861 - val_acc: 0.8478 - val_f1: 0.8541 - val_recall: 0.8397 - val_precision: 0.8706\n",
            "Epoch 73/100\n",
            "20/20 [==============================] - 173s 9s/step - loss: 0.3285 - acc: 0.8781 - f1: 0.8779 - recall: 0.8656 - precision: 0.8910 - val_loss: 0.4569 - val_acc: 0.8533 - val_f1: 0.8507 - val_recall: 0.8451 - val_precision: 0.8567\n",
            "Epoch 74/100\n",
            "20/20 [==============================] - 174s 9s/step - loss: 0.2999 - acc: 0.9062 - f1: 0.9002 - recall: 0.8781 - precision: 0.9251 - val_loss: 0.5691 - val_acc: 0.7935 - val_f1: 0.7941 - val_recall: 0.7663 - val_precision: 0.8253\n",
            "Epoch 75/100\n",
            "20/20 [==============================] - 176s 9s/step - loss: 0.3318 - acc: 0.8906 - f1: 0.8898 - recall: 0.8750 - precision: 0.9061 - val_loss: 0.5871 - val_acc: 0.8288 - val_f1: 0.8196 - val_recall: 0.8043 - val_precision: 0.8367\n",
            "Epoch 76/100\n",
            "19/20 [===========================>..] - ETA: 4s - loss: 0.3049 - acc: 0.8947 - f1: 0.8961 - recall: 0.8816 - precision: 0.9120PROBLEM\n",
            "20/20 [==============================] - 176s 9s/step - loss: 0.3067 - acc: 0.8969 - f1: 0.8982 - recall: 0.8844 - precision: 0.9133 - val_loss: 0.4752 - val_acc: 0.8641 - val_f1: 0.8668 - val_recall: 0.8587 - val_precision: 0.8754\n",
            "Epoch 77/100\n",
            "20/20 [==============================] - 176s 9s/step - loss: 0.2623 - acc: 0.9094 - f1: 0.9093 - recall: 0.9000 - precision: 0.9193 - val_loss: 0.4650 - val_acc: 0.8614 - val_f1: 0.8551 - val_recall: 0.8424 - val_precision: 0.8689\n",
            "Epoch 78/100\n",
            "20/20 [==============================] - 176s 9s/step - loss: 0.2889 - acc: 0.9156 - f1: 0.9162 - recall: 0.8969 - precision: 0.9374 - val_loss: 0.5967 - val_acc: 0.8125 - val_f1: 0.8113 - val_recall: 0.8043 - val_precision: 0.8189\n",
            "Epoch 79/100\n",
            "20/20 [==============================] - 174s 9s/step - loss: 0.2808 - acc: 0.9219 - f1: 0.9111 - recall: 0.8969 - precision: 0.9264 - val_loss: 0.4947 - val_acc: 0.8505 - val_f1: 0.8509 - val_recall: 0.8397 - val_precision: 0.8630\n",
            "Epoch 80/100\n",
            "20/20 [==============================] - 174s 9s/step - loss: 0.2718 - acc: 0.8969 - f1: 0.8926 - recall: 0.8844 - precision: 0.9016 - val_loss: 0.4807 - val_acc: 0.8560 - val_f1: 0.8565 - val_recall: 0.8451 - val_precision: 0.8687\n",
            "Epoch 81/100\n",
            "20/20 [==============================] - 175s 9s/step - loss: 0.2603 - acc: 0.9281 - f1: 0.9260 - recall: 0.9219 - precision: 0.9304 - val_loss: 0.5136 - val_acc: 0.8424 - val_f1: 0.8377 - val_recall: 0.8288 - val_precision: 0.8471\n",
            "Epoch 82/100\n",
            "20/20 [==============================] - 175s 9s/step - loss: 0.2624 - acc: 0.9094 - f1: 0.9068 - recall: 0.9000 - precision: 0.9143 - val_loss: 0.4590 - val_acc: 0.8424 - val_f1: 0.8412 - val_recall: 0.8315 - val_precision: 0.8521\n",
            "Epoch 83/100\n",
            "20/20 [==============================] - 176s 9s/step - loss: 0.2565 - acc: 0.9187 - f1: 0.9155 - recall: 0.9000 - precision: 0.9322 - val_loss: 0.4750 - val_acc: 0.8614 - val_f1: 0.8564 - val_recall: 0.8478 - val_precision: 0.8657\n",
            "Epoch 84/100\n",
            "20/20 [==============================] - 175s 9s/step - loss: 0.2568 - acc: 0.9219 - f1: 0.9201 - recall: 0.9062 - precision: 0.9354 - val_loss: 0.4721 - val_acc: 0.8587 - val_f1: 0.8607 - val_recall: 0.8505 - val_precision: 0.8718\n",
            "Epoch 85/100\n",
            "20/20 [==============================] - 176s 9s/step - loss: 0.2320 - acc: 0.9312 - f1: 0.9252 - recall: 0.9125 - precision: 0.9388 - val_loss: 0.5136 - val_acc: 0.8261 - val_f1: 0.8327 - val_recall: 0.8234 - val_precision: 0.8430\n",
            "Epoch 86/100\n",
            "20/20 [==============================] - 173s 9s/step - loss: 0.2169 - acc: 0.9406 - f1: 0.9368 - recall: 0.9281 - precision: 0.9465 - val_loss: 0.6471 - val_acc: 0.8071 - val_f1: 0.8110 - val_recall: 0.8043 - val_precision: 0.8181\n",
            "Epoch 87/100\n",
            "20/20 [==============================] - 174s 9s/step - loss: 0.2817 - acc: 0.9125 - f1: 0.9052 - recall: 0.8969 - precision: 0.9142 - val_loss: 0.4316 - val_acc: 0.8587 - val_f1: 0.8658 - val_recall: 0.8505 - val_precision: 0.8825\n",
            "Epoch 88/100\n",
            "20/20 [==============================] - 175s 9s/step - loss: 0.2474 - acc: 0.9250 - f1: 0.9294 - recall: 0.9250 - precision: 0.9342 - val_loss: 0.5465 - val_acc: 0.8478 - val_f1: 0.8463 - val_recall: 0.8370 - val_precision: 0.8564\n",
            "Epoch 89/100\n",
            "20/20 [==============================] - 173s 9s/step - loss: 0.2232 - acc: 0.9469 - f1: 0.9456 - recall: 0.9344 - precision: 0.9579 - val_loss: 0.5956 - val_acc: 0.8533 - val_f1: 0.8556 - val_recall: 0.8478 - val_precision: 0.8639\n",
            "Epoch 90/100\n",
            "20/20 [==============================] - 174s 9s/step - loss: 0.2286 - acc: 0.9187 - f1: 0.9212 - recall: 0.9125 - precision: 0.9306 - val_loss: 0.5233 - val_acc: 0.8505 - val_f1: 0.8468 - val_recall: 0.8424 - val_precision: 0.8516\n",
            "Epoch 91/100\n",
            "20/20 [==============================] - 176s 9s/step - loss: 0.2497 - acc: 0.9344 - f1: 0.9357 - recall: 0.9344 - precision: 0.9371 - val_loss: 0.5580 - val_acc: 0.8315 - val_f1: 0.8320 - val_recall: 0.8288 - val_precision: 0.8355\n",
            "Epoch 92/100\n",
            "20/20 [==============================] - 175s 9s/step - loss: 0.2246 - acc: 0.9312 - f1: 0.9304 - recall: 0.9219 - precision: 0.9398 - val_loss: 0.6577 - val_acc: 0.8261 - val_f1: 0.8307 - val_recall: 0.8207 - val_precision: 0.8418\n",
            "Epoch 93/100\n",
            " 4/20 [=====>........................] - ETA: 1:09 - loss: 0.3050 - acc: 0.8750 - f1: 0.8891 - recall: 0.8750 - precision: 0.9042PROBLEM\n",
            "20/20 [==============================] - 174s 9s/step - loss: 0.2350 - acc: 0.9281 - f1: 0.9232 - recall: 0.9125 - precision: 0.9347 - val_loss: 0.4444 - val_acc: 0.8424 - val_f1: 0.8467 - val_recall: 0.8424 - val_precision: 0.8514\n",
            "Epoch 94/100\n",
            "20/20 [==============================] - 177s 9s/step - loss: 0.2132 - acc: 0.9344 - f1: 0.9351 - recall: 0.9281 - precision: 0.9425 - val_loss: 0.5065 - val_acc: 0.8696 - val_f1: 0.8742 - val_recall: 0.8587 - val_precision: 0.8912\n",
            "Epoch 95/100\n",
            "20/20 [==============================] - 175s 9s/step - loss: 0.2387 - acc: 0.9469 - f1: 0.9507 - recall: 0.9438 - precision: 0.9583 - val_loss: 0.4784 - val_acc: 0.8424 - val_f1: 0.8476 - val_recall: 0.8315 - val_precision: 0.8657\n",
            "Epoch 96/100\n",
            "20/20 [==============================] - 177s 9s/step - loss: 0.2259 - acc: 0.9312 - f1: 0.9180 - recall: 0.9031 - precision: 0.9343 - val_loss: 0.5896 - val_acc: 0.8451 - val_f1: 0.8450 - val_recall: 0.8397 - val_precision: 0.8507\n",
            "Epoch 97/100\n",
            "20/20 [==============================] - 174s 9s/step - loss: 0.2053 - acc: 0.9156 - f1: 0.9223 - recall: 0.9094 - precision: 0.9363 - val_loss: 0.4350 - val_acc: 0.8668 - val_f1: 0.8597 - val_recall: 0.8505 - val_precision: 0.8694\n",
            "Epoch 98/100\n",
            "20/20 [==============================] - 175s 9s/step - loss: 0.1936 - acc: 0.9469 - f1: 0.9446 - recall: 0.9312 - precision: 0.9600 - val_loss: 0.5023 - val_acc: 0.8234 - val_f1: 0.8273 - val_recall: 0.8207 - val_precision: 0.8344\n",
            "Epoch 99/100\n",
            "20/20 [==============================] - 172s 9s/step - loss: 0.1928 - acc: 0.9469 - f1: 0.9431 - recall: 0.9375 - precision: 0.9492 - val_loss: 0.5550 - val_acc: 0.8207 - val_f1: 0.8172 - val_recall: 0.8043 - val_precision: 0.8312\n",
            "Epoch 100/100\n",
            "20/20 [==============================] - 174s 9s/step - loss: 0.1660 - acc: 0.9594 - f1: 0.9573 - recall: 0.9531 - precision: 0.9617 - val_loss: 0.4777 - val_acc: 0.8696 - val_f1: 0.8710 - val_recall: 0.8641 - val_precision: 0.8784\n"
          ],
          "name": "stdout"
        }
      ]
    },
    {
      "cell_type": "markdown",
      "metadata": {
        "id": "ulNKmCSjOgTi",
        "colab_type": "text"
      },
      "source": [
        "## Plotting progress\n"
      ]
    },
    {
      "cell_type": "code",
      "metadata": {
        "id": "NgM3rQ0vy4LC",
        "colab_type": "code",
        "outputId": "94f08b81-197e-4d98-f003-48a8d4507e29",
        "colab": {
          "base_uri": "https://localhost:8080/",
          "height": 545
        }
      },
      "source": [
        "import matplotlib.pyplot as plt\n",
        "\n",
        "acc = history.history['acc']\n",
        "val_acc = history.history['val_acc']\n",
        "loss = history.history['loss']\n",
        "val_loss = history.history['val_loss']\n",
        "\n",
        "epochs = range(1, len(acc) + 1)\n",
        "\n",
        "plt.plot(epochs, acc, 'bo', label='Training acc')\n",
        "plt.plot(epochs, val_acc, 'b', label='Validation acc')\n",
        "plt.title('Training and validation accuracy')\n",
        "plt.legend()\n",
        "\n",
        "plt.figure()\n",
        "\n",
        "plt.plot(epochs, loss, 'bo', label='Training loss')\n",
        "plt.plot(epochs, val_loss, 'b', label='Validation loss')\n",
        "plt.title('Training and validation loss')\n",
        "plt.legend()\n",
        "\n",
        "plt.show()"
      ],
      "execution_count": 0,
      "outputs": [
        {
          "output_type": "display_data",
          "data": {
            "image/png": "[encoded data removed]",
            "text/plain": [
              "<Figure size 432x288 with 1 Axes>"
            ]
          },
          "metadata": {
            "tags": []
          }
        },
        {
          "output_type": "display_data",
          "data": {
            "image/png": "[encoded data removed]",
            "text/plain": [
              "<Figure size 432x288 with 1 Axes>"
            ]
          },
          "metadata": {
            "tags": []
          }
        }
      ]
    },
    {
      "cell_type": "markdown",
      "metadata": {
        "id": "qB27gohCOarf",
        "colab_type": "text"
      },
      "source": [
        "## Evaluation\n"
      ]
    },
    {
      "cell_type": "code",
      "metadata": {
        "id": "SEprYZm5lieL",
        "colab_type": "code",
        "outputId": "91efb707-2630-4d03-9f6a-7f0f64d7e3fa",
        "colab": {
          "base_uri": "https://localhost:8080/",
          "height": 33
        }
      },
      "source": [
        "a = model.evaluate_generator(val_gen,steps=10)\n",
        "\n",
        "print(a)"
      ],
      "execution_count": 0,
      "outputs": [
        {
          "output_type": "stream",
          "text": [
            "[0.3565180577337742, 0.875, 0.880742484331131, 0.8625, 0.9014743626117706]\n"
          ],
          "name": "stdout"
        }
      ]
    },
    {
      "cell_type": "code",
      "metadata": {
        "id": "LL1HgOKZRNTW",
        "colab_type": "code",
        "outputId": "4c8ba761-d44a-42e7-aed8-d75e2195f301",
        "colab": {
          "base_uri": "https://localhost:8080/",
          "height": 100
        }
      },
      "source": [
        "for x in zip(model.metrics_names,a):\n",
        "  print(x)"
      ],
      "execution_count": 0,
      "outputs": [
        {
          "output_type": "stream",
          "text": [
            "('loss', 0.3565180577337742)\n",
            "('acc', 0.875)\n",
            "('f1', 0.880742484331131)\n",
            "('recall', 0.8625)\n",
            "('precision', 0.9014743626117706)\n"
          ],
          "name": "stdout"
        }
      ]
    },
    {
      "cell_type": "code",
      "metadata": {
        "id": "emceWn5VT773",
        "colab_type": "code",
        "colab": {}
      },
      "source": [
        ""
      ],
      "execution_count": 0,
      "outputs": []
    }
  ]
}